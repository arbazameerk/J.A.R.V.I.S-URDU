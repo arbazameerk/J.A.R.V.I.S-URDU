{
 "cells": [
  {
   "cell_type": "code",
   "execution_count": 1,
   "id": "2f904897",
   "metadata": {},
   "outputs": [],
   "source": [
    "class Audiofile:\n",
    "    def __init__(self):\n",
    "        self._folder_paths = {\n",
    "            'assistance off': r\"C:\\Users\\anasa\\Desktop\\JARVIS-Urdu-Voice-Assistant-\\Assistance off\",\n",
    "            'assistance on': r\"C:\\Users\\anasa\\Desktop\\JARVIS-Urdu-Voice-Assistant-\\Assistance on\",\n",
    "            'Turn off Wi-Fi.': r\"C:\\Users\\anasa\\Desktop\\JARVIS-Urdu-Voice-Assistant-\\Turn off wifi\",\n",
    "            'Turn off Bluetooth.': r\"C:\\Users\\anasa\\Desktop\\JARVIS-Urdu-Voice-Assistant-\\Turn of bluetooth\",\n",
    "            'Open control panel': r\"C:\\Users\\anasa\\Desktop\\JARVIS-Urdu-Voice-Assistant-\\open control panel\",\n",
    "            'Stop Movie': r\"C:\\Users\\anasa\\Desktop\\JARVIS-Urdu-Voice-Assistant-\\Stop movie\",\n",
    "            'Play Movie': r\"C:\\Users\\anasa\\Desktop\\JARVIS-Urdu-Voice-Assistant-\\Play movie\",\n",
    "            'Next Movie': r\"C:\\Users\\anasa\\Desktop\\JARVIS-Urdu-Voice-Assistant-\\Next Movie\",\n",
    "            'Unmute Volume': r\"C:\\Users\\anasa\\Desktop\\JARVIS-Urdu-Voice-Assistant-\\Unmute Volume\",\n",
    "            'Volume Down': r\"C:\\Users\\anasa\\Desktop\\JARVIS-Urdu-Voice-Assistant-\\Volume Down\",\n",
    "            'Volume Up': r\"C:\\Users\\anasa\\Desktop\\JARVIS-Urdu-Voice-Assistant-\\Volume up\",\n",
    "            'Open Start Menu': r\"C:\\Users\\anasa\\Desktop\\JARVIS-Urdu-Voice-Assistant-\\Open start menu\",\n",
    "            'zoom in': r\"C:\\Users\\anasa\\Desktop\\JARVIS-Urdu-Voice-Assistant-\\Zoom in\",\n",
    "            'zoom out': r\"C:\\Users\\anasa\\Desktop\\JARVIS-Urdu-Voice-Assistant-\\Zoom out\",\n",
    "        }\n",
    "    def get_folder_names(self):\n",
    "        return list(self._folder_paths.keys())\n",
    "    def get_folderpaths(self):\n",
    "        # Function to get the path of folder\n",
    "        return self._folder_paths"
   ]
  },
  {
   "cell_type": "code",
   "execution_count": 2,
   "id": "d29e366d",
   "metadata": {},
   "outputs": [
    {
     "name": "stdout",
     "output_type": "stream",
     "text": [
      "['assistance off', 'assistance on', 'Turn off Wi-Fi.', 'Turn off Bluetooth.', 'Open control panel', 'Stop Movie', 'Play Movie', 'Next Movie', 'Unmute Volume', 'Volume Down', 'Volume Up', 'Open Start Menu', 'zoom in', 'zoom out']\n"
     ]
    }
   ],
   "source": [
    "audio = Audiofile()\n",
    "folders = audio.get_folder_names()\n",
    "print(folders)"
   ]
  },
  {
   "cell_type": "code",
   "execution_count": 3,
   "id": "3ee6c70f",
   "metadata": {},
   "outputs": [],
   "source": [
    "class Feature_Extraction:\n",
    "#     def __init__(self):\n",
    "#         self.features={}\n",
    "    def extract_features(audio_data, sr):\n",
    "        features = {}\n",
    "        features[\"chroma_stft\"] = librosa.feature.chroma_stft(y=audio_data, sr=sr)\n",
    "        features[\"chroma_cqt\"] = librosa.feature.chroma_cqt(y=audio_data, sr=sr)\n",
    "        features[\"chroma_cens\"] = librosa.feature.chroma_cens(y=audio_data, sr=sr)\n",
    "        features[\"melspectrogram\"] = librosa.feature.melspectrogram(y=audio_data, sr=sr)\n",
    "        features[\"mfccs\"] = librosa.feature.mfcc(y=audio_data, sr=sr)\n",
    "        features[\"rms\"] = librosa.feature.rms(y=audio_data)\n",
    "        features[\"spectral_centroid\"] = librosa.feature.spectral_centroid(y=audio_data, sr=sr)\n",
    "        features[\"spectral_bandwidth\"] = librosa.feature.spectral_bandwidth(y=audio_data, sr=sr)\n",
    "        features[\"spectral_contrast\"] = librosa.feature.spectral_contrast(y=audio_data, sr=sr)\n",
    "        features[\"spectral_flatness\"] = librosa.feature.spectral_flatness(y=audio_data)\n",
    "        features[\"spectral_rolloff\"] = librosa.feature.spectral_rolloff(y=audio_data, sr=sr)\n",
    "        features[\"poly_features\"] = librosa.feature.poly_features(y=audio_data, sr=sr)\n",
    "        features[\"zero_crossing_rate\"] = librosa.feature.zero_crossing_rate(y=audio_data)\n",
    "\n",
    "        return features\n",
    "        "
   ]
  },
  {
   "cell_type": "code",
   "execution_count": null,
   "id": "92177c03",
   "metadata": {},
   "outputs": [],
   "source": [
    "class Data_Preprocessing:  \n",
    "    \n",
    "    def __init__(self):\n",
    "        self.X=[]\n",
    "    def calculate_mean(self,features):\n",
    "        mean=[]\n",
    "        for feature_name, feature_values in features.items():\n",
    "            # Calculate mean\n",
    "            feature_mean = np.mean(feature_values, axis=1)\n",
    "            Final_feature_mean=np.mean(feature_mean, axis=0)\n",
    "            mean.append(Final_feature_mean)\n",
    "        return mean\n",
    "    def preprocessing(self):\n",
    "        audios=Audiofile()\n",
    "        feature_extractor=Feature_Extraction()\n",
    "        paths =audios.get_folderpaths()\n",
    "        for folder,path in paths.items():\n",
    "#             path=audios.get_folderpaths(folder)\n",
    "#             print(folder,\" : \",path)\n",
    "            os.chdir(path)\n",
    "#             print()\n",
    "#             print(os.getcwd(),\"\\n\",os.listdir())\n",
    "            for one in os.listdir():\n",
    "                audio_data,sr=librosa.load(one)\n",
    "                features = extract_features(audio_data, sr)\n",
    "                mean=self.calculate_mean(features)\n",
    "                mean.append(folder)\n",
    "                self.X.append(mean)\n",
    "#             self.X.append(folder)"
   ]
  },
  {
   "cell_type": "code",
   "execution_count": null,
   "id": "308d7b25",
   "metadata": {},
   "outputs": [],
   "source": [
    "data=Data_Preprocessing()\n",
    "data.preprocessing()"
   ]
  },
  {
   "cell_type": "code",
   "execution_count": null,
   "id": "6840ea94",
   "metadata": {},
   "outputs": [],
   "source": [
    "XX=pd.DataFrame(data.X,columns=['chroma_stft','chroma_cqt',\n",
    "'chroma_cens','melspectrogram','mfccs','rms','spectral_centroid','spectral_bandwidth',\n",
    "                                'spectral_contrast','spectral_flatness','spectral_rolloff',\n",
    "                                'poly_features','zero_crossing_rate','class'])\n",
    "XX[0:50]\n",
    "# data.X"
   ]
  }
 ],
 "metadata": {
  "kernelspec": {
   "display_name": "Python 3 (ipykernel)",
   "language": "python",
   "name": "python3"
  },
  "language_info": {
   "codemirror_mode": {
    "name": "ipython",
    "version": 3
   },
   "file_extension": ".py",
   "mimetype": "text/x-python",
   "name": "python",
   "nbconvert_exporter": "python",
   "pygments_lexer": "ipython3",
   "version": "3.11.4"
  },
  "varInspector": {
   "cols": {
    "lenName": 16,
    "lenType": 16,
    "lenVar": 40
   },
   "kernels_config": {
    "python": {
     "delete_cmd_postfix": "",
     "delete_cmd_prefix": "del ",
     "library": "var_list.py",
     "varRefreshCmd": "print(var_dic_list())"
    },
    "r": {
     "delete_cmd_postfix": ") ",
     "delete_cmd_prefix": "rm(",
     "library": "var_list.r",
     "varRefreshCmd": "cat(var_dic_list()) "
    }
   },
   "types_to_exclude": [
    "module",
    "function",
    "builtin_function_or_method",
    "instance",
    "_Feature"
   ],
   "window_display": false
  }
 },
 "nbformat": 4,
 "nbformat_minor": 5
}
