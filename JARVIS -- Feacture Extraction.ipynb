{
 "cells": [
  {
   "cell_type": "code",
   "execution_count": 1,
   "id": "2f904897",
   "metadata": {},
   "outputs": [],
   "source": [
    "class Audiofile:\n",
    "    def __init__(self):\n",
    "        self._folder_paths = {\n",
    "            'assistance off': r\"C:\\Users\\anasa\\Desktop\\JARVIS-Urdu-Voice-Assistant-\\Assistance off\",\n",
    "            'assistance on': r\"C:\\Users\\anasa\\Desktop\\JARVIS-Urdu-Voice-Assistant-\\Assistance on\",\n",
    "            'Turn off Wi-Fi.': r\"C:\\Users\\anasa\\Desktop\\JARVIS-Urdu-Voice-Assistant-\\Turn off wifi\",\n",
    "            'Turn off Bluetooth.': r\"C:\\Users\\anasa\\Desktop\\JARVIS-Urdu-Voice-Assistant-\\Turn of bluetooth\",\n",
    "            'Open control panel': r\"C:\\Users\\anasa\\Desktop\\JARVIS-Urdu-Voice-Assistant-\\open control panel\",\n",
    "            'Stop Movie': r\"C:\\Users\\anasa\\Desktop\\JARVIS-Urdu-Voice-Assistant-\\Stop movie\",\n",
    "            'Play Movie': r\"C:\\Users\\anasa\\Desktop\\JARVIS-Urdu-Voice-Assistant-\\Play movie\",\n",
    "            'Next Movie': r\"C:\\Users\\anasa\\Desktop\\JARVIS-Urdu-Voice-Assistant-\\Next Movie\",\n",
    "            'Unmute Volume': r\"C:\\Users\\anasa\\Desktop\\JARVIS-Urdu-Voice-Assistant-\\Unmute Volume\",\n",
    "            'Volume Down': r\"C:\\Users\\anasa\\Desktop\\JARVIS-Urdu-Voice-Assistant-\\Volume Down\",\n",
    "            'Volume Up': r\"C:\\Users\\anasa\\Desktop\\JARVIS-Urdu-Voice-Assistant-\\Volume up\",\n",
    "            'Open Start Menu': r\"C:\\Users\\anasa\\Desktop\\JARVIS-Urdu-Voice-Assistant-\\Open start menu\",\n",
    "            'zoom in': r\"C:\\Users\\anasa\\Desktop\\JARVIS-Urdu-Voice-Assistant-\\Zoom in\",\n",
    "            'zoom out': r\"C:\\Users\\anasa\\Desktop\\JARVIS-Urdu-Voice-Assistant-\\Zoom out\",\n",
    "        }\n",
    "    def get_folder_names(self):\n",
    "        return list(self._folder_paths.keys())\n",
    "    def get_folderpaths(self):\n",
    "        # Function to get the path of folder\n",
    "        return self._folder_paths"
   ]
  },
  {
   "cell_type": "code",
   "execution_count": 2,
   "id": "d29e366d",
   "metadata": {},
   "outputs": [
    {
     "name": "stdout",
     "output_type": "stream",
     "text": [
      "['assistance off', 'assistance on', 'Turn off Wi-Fi.', 'Turn off Bluetooth.', 'Open control panel', 'Stop Movie', 'Play Movie', 'Next Movie', 'Unmute Volume', 'Volume Down', 'Volume Up', 'Open Start Menu', 'zoom in', 'zoom out']\n"
     ]
    }
   ],
   "source": [
    "audio = Audiofile()\n",
    "folders = audio.get_folder_names()\n",
    "print(folders)"
   ]
  },
  {
   "cell_type": "code",
   "execution_count": 3,
   "id": "3ee6c70f",
   "metadata": {},
   "outputs": [],
   "source": [
    "class Feature_Extraction:\n",
    "#     def __init__(self):\n",
    "#         self.features={}\n",
    "    def extract_features(audio_data, sr):\n",
    "        features = {}\n",
    "        features[\"chroma_stft\"] = librosa.feature.chroma_stft(y=audio_data, sr=sr)\n",
    "        features[\"chroma_cqt\"] = librosa.feature.chroma_cqt(y=audio_data, sr=sr)\n",
    "        features[\"chroma_cens\"] = librosa.feature.chroma_cens(y=audio_data, sr=sr)\n",
    "        features[\"melspectrogram\"] = librosa.feature.melspectrogram(y=audio_data, sr=sr)\n",
    "        features[\"mfccs\"] = librosa.feature.mfcc(y=audio_data, sr=sr)\n",
    "        features[\"rms\"] = librosa.feature.rms(y=audio_data)\n",
    "        features[\"spectral_centroid\"] = librosa.feature.spectral_centroid(y=audio_data, sr=sr)\n",
    "        features[\"spectral_bandwidth\"] = librosa.feature.spectral_bandwidth(y=audio_data, sr=sr)\n",
    "        features[\"spectral_contrast\"] = librosa.feature.spectral_contrast(y=audio_data, sr=sr)\n",
    "        features[\"spectral_flatness\"] = librosa.feature.spectral_flatness(y=audio_data)\n",
    "        features[\"spectral_rolloff\"] = librosa.feature.spectral_rolloff(y=audio_data, sr=sr)\n",
    "        features[\"poly_features\"] = librosa.feature.poly_features(y=audio_data, sr=sr)\n",
    "        features[\"zero_crossing_rate\"] = librosa.feature.zero_crossing_rate(y=audio_data)\n",
    "\n",
    "        return features\n",
    "        "
   ]
  }
 ],
 "metadata": {
  "kernelspec": {
   "display_name": "Python 3 (ipykernel)",
   "language": "python",
   "name": "python3"
  },
  "language_info": {
   "codemirror_mode": {
    "name": "ipython",
    "version": 3
   },
   "file_extension": ".py",
   "mimetype": "text/x-python",
   "name": "python",
   "nbconvert_exporter": "python",
   "pygments_lexer": "ipython3",
   "version": "3.11.4"
  }
 },
 "nbformat": 4,
 "nbformat_minor": 5
}
