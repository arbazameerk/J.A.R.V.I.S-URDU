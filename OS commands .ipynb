{
 "cells": [
  {
   "cell_type": "markdown",
   "id": "aac82778",
   "metadata": {},
   "source": [
    "# Assistance ON"
   ]
  },
  {
   "cell_type": "code",
   "execution_count": 1,
   "id": "5c405312",
   "metadata": {},
   "outputs": [
    {
     "data": {
      "text/plain": [
       "1"
      ]
     },
     "execution_count": 1,
     "metadata": {},
     "output_type": "execute_result"
    }
   ],
   "source": [
    "# Start an assistance application (e.g., a chatbot)\n",
    "# You may need to specify the path to the application\n",
    "import subprocess\n",
    "import os #for runing py comnads on terminal\n",
    "subprocess.Popen([\"C:\\Program Files (x86)\\Google\\Chrome\\Application\\chrome.exe\"])\n",
    "\n",
    "\n",
    "# Use double backslashes or a raw string for the file path\n",
    "script_directory = \"C:\\\\Users\\\\DELL\\\\Desktop\\\\EEL UI\"\n",
    "# Alternatively, you can use a raw string:\n",
    "# script_directory = r\"C:\\Users\\DELL\\Desktop\\EEL UI\"\n",
    "\n",
    "script_name = \"main.py\"\n",
    "\n",
    "# Launch the process\n",
    "process = subprocess.Popen([\"py\", os.path.join(script_directory, script_name)])\n",
    "\n",
    "# Wait for the process to complete\n",
    "process.wait()"
   ]
  },
  {
   "cell_type": "markdown",
   "id": "81d75b8a",
   "metadata": {},
   "source": [
    "# Assistance OF"
   ]
  },
  {
   "cell_type": "code",
   "execution_count": 2,
   "id": "f81ff418",
   "metadata": {},
   "outputs": [],
   "source": [
    "# Terminate main.py\n",
    "import psutil\n",
    "\n",
    "# Replace \"main.py\" with the actual script name\n",
    "script_name = \"main.py\"\n",
    "\n",
    "# Find and terminate the main.py process\n",
    "for process in psutil.process_iter(['pid', 'name']):\n",
    "    if script_name.lower() in process.info['name'].lower():\n",
    "        pid = process.info['pid']\n",
    "        os.system(f\"taskkill /f /pid {pid}\")"
   ]
  },
  {
   "cell_type": "markdown",
   "id": "aa23895b",
   "metadata": {},
   "source": [
    "# New Folder"
   ]
  },
  {
   "cell_type": "code",
   "execution_count": 6,
   "id": "c95ecbc3",
   "metadata": {},
   "outputs": [],
   "source": [
    "import os\n",
    "import tkinter as tk\n",
    "from tkinter import filedialog\n",
    "\n",
    "# Prompt the user for the folder name\n",
    "folder_name = input(\"Enter the name for the new folder: \")\n",
    "\n",
    "# Prompt the user for the location to store the folder\n",
    "root = tk.Tk()\n",
    "root.withdraw()  # Hide the main window\n",
    "\n",
    "selected_folder = filedialog.askdirectory(title=\"Select Folder to Store the New Folder\")\n",
    "\n",
    "if selected_folder:\n",
    "    # Create the new folder\n",
    "    new_folder_path = os.path.join(selected_folder, folder_name)\n",
    "    os.mkdir(new_folder_path)\n",
    "    \n",
    "    print(f\"New folder '{folder_name}' created and stored in '{selected_folder}'.\")\n",
    "else:\n",
    "    print(\"Operation canceled by the user.\")\n"
   ]
  },
  {
   "cell_type": "markdown",
   "id": "be189065",
   "metadata": {},
   "source": [
    "# WiFi On/Off"
   ]
  },
  {
   "cell_type": "code",
   "execution_count": 7,
   "id": "ecbc6243",
   "metadata": {},
   "outputs": [
    {
     "name": "stdout",
     "output_type": "stream",
     "text": [
      "Defaulting to user installation because normal site-packages is not writeable\n",
      "Collecting comtypes\n",
      "  Obtaining dependency information for comtypes from https://files.pythonhosted.org/packages/c2/a7/fe4bd49b5c4afa7a7ed3852abda6909e48c00715e6a134e47055381113aa/comtypes-1.2.0-py2.py3-none-any.whl.metadata\n",
      "  Downloading comtypes-1.2.0-py2.py3-none-any.whl.metadata (3.7 kB)\n",
      "Using cached comtypes-1.2.0-py2.py3-none-any.whl (184 kB)\n",
      "Installing collected packages: comtypes\n",
      "Successfully installed comtypes-1.2.0\n",
      "Note: you may need to restart the kernel to use updated packages.\n"
     ]
    }
   ],
   "source": [
    "pip install comtypes"
   ]
  },
  {
   "cell_type": "code",
   "execution_count": 10,
   "id": "43dbb671",
   "metadata": {},
   "outputs": [],
   "source": [
    "from pywifi import PyWiFi\n",
    "import time\n",
    "\n",
    "wifi = PyWiFi()\n",
    "iface = wifi.interfaces()[0]  # Use the first Wi-Fi interface\n",
    "\n",
    "# Turn Wi-Fi off\n",
    "iface.disconnect()\n",
    "iface.status()\n",
    "\n",
    "# Turn Wi-Fi on\n",
    "iface.scan()\n",
    "time.sleep(2)\n",
    "iface.disconnect()\n",
    "iface.status()\n",
    "time.sleep(2)"
   ]
  },
  {
   "cell_type": "markdown",
   "id": "7ab39c01",
   "metadata": {},
   "source": [
    "# Control Pannel"
   ]
  },
  {
   "cell_type": "code",
   "execution_count": 11,
   "id": "fb840ed6",
   "metadata": {},
   "outputs": [
    {
     "data": {
      "text/plain": [
       "1"
      ]
     },
     "execution_count": 11,
     "metadata": {},
     "output_type": "execute_result"
    }
   ],
   "source": [
    "import os\n",
    "os.system(\"control\")"
   ]
  },
  {
   "cell_type": "markdown",
   "id": "f2e22eb3",
   "metadata": {},
   "source": [
    "# Movie"
   ]
  },
  {
   "cell_type": "code",
   "execution_count": 13,
   "id": "d8b9732f",
   "metadata": {},
   "outputs": [
    {
     "name": "stdout",
     "output_type": "stream",
     "text": [
      "Defaulting to user installation because normal site-packages is not writeable\n",
      "Requirement already satisfied: python-vlc in c:\\users\\dell\\appdata\\roaming\\python\\python311\\site-packages (3.0.18122)\n"
     ]
    }
   ],
   "source": [
    "#To control movie playback in Python, you'll need to use a media player library, such as vlc, \n",
    "#which provides an interface to interact with VLC Media Player. Make sure to install the vlc library first\n",
    "!pip install python-vlc "
   ]
  },
  {
   "cell_type": "code",
   "execution_count": 17,
   "id": "78cbab38",
   "metadata": {},
   "outputs": [],
   "source": [
    "import vlc\n",
    "import time\n",
    "import os\n",
    "\n",
    "# Replace with the actual paths to your movie files\n",
    "movie_path = r\"A:\\Seasons\\SpongeBob SquarePants (1999)\\SpongeBob SquarePants Season 1 (1999-2000)\\101 Help Wanted.avi\"\n",
    "next_movie_path = r\"A:\\Seasons\\SpongeBob SquarePants (1999)\\SpongeBob SquarePants Season 1 (1999-2000)\\102 Reef Blower.avi\"\n",
    "\n",
    "instance = vlc.Instance(\"--no-xlib\")  # Add this parameter to avoid graphical issues on some systems\n",
    "player = instance.media_player_new()\n",
    "media = instance.media_new(movie_path)\n",
    "player.set_media(media)\n",
    "\n",
    "# Play the first movie\n",
    "player.play()\n",
    "time.sleep(5)  # Adjust this delay as needed\n",
    "\n",
    "# Stop the player\n",
    "player.stop()\n",
    "\n",
    "# Play the second movie\n",
    "media = instance.media_new(next_movie_path)\n",
    "player.set_media(media)\n",
    "player.play()\n",
    "\n",
    "# Wait for the second movie to finish playing (you can adjust this duration)\n",
    "time.sleep(10)\n",
    "\n",
    "# Stop the player\n",
    "player.stop()"
   ]
  },
  {
   "cell_type": "markdown",
   "id": "f53fd521",
   "metadata": {},
   "source": [
    "# Speakers"
   ]
  },
  {
   "cell_type": "markdown",
   "id": "ae75c9fc",
   "metadata": {},
   "source": [
    "To control system volume in Python, you can use the pycaw library, which provides an interface to interact with the Windows Core Audio API for volume control. Here's how you can implement the actions you mentioned:\n",
    "\n",
    "First, make sure to install the pycaw library:"
   ]
  },
  {
   "cell_type": "code",
   "execution_count": 19,
   "id": "b09de3b6",
   "metadata": {},
   "outputs": [
    {
     "name": "stdout",
     "output_type": "stream",
     "text": [
      "Defaulting to user installation because normal site-packages is not writeable\n",
      "Collecting pycaw\n",
      "  Downloading pycaw-20230407-py3-none-any.whl (24 kB)\n",
      "Requirement already satisfied: comtypes in c:\\users\\dell\\appdata\\roaming\\python\\python311\\site-packages (from pycaw) (1.2.0)\n",
      "Requirement already satisfied: psutil in d:\\anaconda\\lib\\site-packages (from pycaw) (5.9.0)\n",
      "Installing collected packages: pycaw\n",
      "Successfully installed pycaw-20230407\n"
     ]
    }
   ],
   "source": [
    "!pip install pycaw"
   ]
  },
  {
   "cell_type": "code",
   "execution_count": 20,
   "id": "c349c29b",
   "metadata": {},
   "outputs": [],
   "source": [
    "from ctypes import cast, POINTER\n",
    "from comtypes import CLSCTX_ALL\n",
    "from pycaw.pycaw import AudioUtilities, IAudioEndpointVolume\n",
    "\n",
    "def set_system_volume(volume_level):\n",
    "    devices = AudioUtilities.GetSpeakers()\n",
    "    interface = devices.Activate(\n",
    "        IAudioEndpointVolume._iid_, CLSCTX_ALL, None)\n",
    "    volume = cast(interface, POINTER(IAudioEndpointVolume))\n",
    "    volume.SetMasterVolumeLevelScalar(volume_level, None)\n",
    "\n",
    "def unmute_volume():\n",
    "    devices = AudioUtilities.GetSpeakers()\n",
    "    interface = devices.Activate(\n",
    "        IAudioEndpointVolume._iid_, CLSCTX_ALL, None)\n",
    "    volume = cast(interface, POINTER(IAudioEndpointVolume))\n",
    "    volume.SetMute(0, None)\n",
    "\n",
    "def volume_down():\n",
    "    devices = AudioUtilities.GetSpeakers()\n",
    "    interface = devices.Activate(\n",
    "        IAudioEndpointVolume._iid_, CLSCTX_ALL, None)\n",
    "    volume = cast(interface, POINTER(IAudioEndpointVolume))\n",
    "    current_volume = volume.GetMasterVolumeLevelScalar()\n",
    "    new_volume = max(current_volume - 0.1, 0.0)  # Adjust the step size as needed\n",
    "    volume.SetMasterVolumeLevelScalar(new_volume, None)\n",
    "\n",
    "def volume_up():\n",
    "    devices = AudioUtilities.GetSpeakers()\n",
    "    interface = devices.Activate(\n",
    "        IAudioEndpointVolume._iid_, CLSCTX_ALL, None)\n",
    "    volume = cast(interface, POINTER(IAudioEndpointVolume))\n",
    "    current_volume = volume.GetMasterVolumeLevelScalar()\n",
    "    new_volume = min(current_volume + 0.1, 1.0)  # Adjust the step size as needed\n",
    "    volume.SetMasterVolumeLevelScalar(new_volume, None)\n",
    "\n",
    "# Example usage:\n",
    "# Unmute the volume\n",
    "unmute_volume()\n",
    "\n",
    "# Decrease the volume\n",
    "volume_down()\n",
    "\n",
    "# Increase the volume\n",
    "volume_up()"
   ]
  },
  {
   "cell_type": "markdown",
   "id": "be2d6cbe",
   "metadata": {},
   "source": [
    "# Start Menu"
   ]
  },
  {
   "cell_type": "markdown",
   "id": "7637c8f3",
   "metadata": {},
   "source": [
    "To programmatically open the Start Menu in Windows using Python, you can use the pyautogui library, which allows you to simulate keyboard and mouse input. You can simulate pressing the \"Win\" key, which opens the Start Menu. Here's how you can do it:\n",
    "\n",
    "First, make sure to install the pyautogui library:"
   ]
  },
  {
   "cell_type": "code",
   "execution_count": 21,
   "id": "0e2eac02",
   "metadata": {},
   "outputs": [
    {
     "name": "stdout",
     "output_type": "stream",
     "text": [
      "Defaulting to user installation because normal site-packages is not writeable\n",
      "Collecting pyautogui\n",
      "  Using cached PyAutoGUI-0.9.54.tar.gz (61 kB)\n",
      "  Installing build dependencies: started\n",
      "  Installing build dependencies: finished with status 'done'\n",
      "  Getting requirements to build wheel: started\n",
      "  Getting requirements to build wheel: finished with status 'done'\n",
      "  Preparing metadata (pyproject.toml): started\n",
      "  Preparing metadata (pyproject.toml): finished with status 'done'\n",
      "Collecting pymsgbox (from pyautogui)\n",
      "  Using cached PyMsgBox-1.0.9.tar.gz (18 kB)\n",
      "  Installing build dependencies: started\n",
      "  Installing build dependencies: finished with status 'done'\n",
      "  Getting requirements to build wheel: started\n",
      "  Getting requirements to build wheel: finished with status 'done'\n",
      "  Preparing metadata (pyproject.toml): started\n",
      "  Preparing metadata (pyproject.toml): finished with status 'done'\n",
      "Collecting pytweening>=1.0.4 (from pyautogui)\n",
      "  Using cached pytweening-1.0.7.tar.gz (168 kB)\n",
      "  Preparing metadata (setup.py): started\n",
      "  Preparing metadata (setup.py): finished with status 'done'\n",
      "Collecting pyscreeze>=0.1.21 (from pyautogui)\n",
      "  Using cached PyScreeze-0.1.30.tar.gz (27 kB)\n",
      "  Installing build dependencies: started\n",
      "  Installing build dependencies: finished with status 'done'\n",
      "  Getting requirements to build wheel: started\n",
      "  Getting requirements to build wheel: finished with status 'done'\n",
      "  Preparing metadata (pyproject.toml): started\n",
      "  Preparing metadata (pyproject.toml): finished with status 'done'\n",
      "Collecting pygetwindow>=0.0.5 (from pyautogui)\n",
      "  Using cached PyGetWindow-0.0.9.tar.gz (9.7 kB)\n",
      "  Preparing metadata (setup.py): started\n",
      "  Preparing metadata (setup.py): finished with status 'done'\n",
      "Collecting mouseinfo (from pyautogui)\n",
      "  Using cached MouseInfo-0.1.3.tar.gz (10 kB)\n",
      "  Preparing metadata (setup.py): started\n",
      "  Preparing metadata (setup.py): finished with status 'done'\n",
      "Collecting pyrect (from pygetwindow>=0.0.5->pyautogui)\n",
      "  Using cached PyRect-0.2.0.tar.gz (17 kB)\n",
      "  Preparing metadata (setup.py): started\n",
      "  Preparing metadata (setup.py): finished with status 'done'\n",
      "Requirement already satisfied: Pillow>=9.3.0 in d:\\anaconda\\lib\\site-packages (from pyscreeze>=0.1.21->pyautogui) (9.4.0)\n",
      "Collecting pyperclip (from mouseinfo->pyautogui)\n",
      "  Using cached pyperclip-1.8.2.tar.gz (20 kB)\n",
      "  Preparing metadata (setup.py): started\n",
      "  Preparing metadata (setup.py): finished with status 'done'\n",
      "Building wheels for collected packages: pyautogui, pygetwindow, pyscreeze, pytweening, mouseinfo, pymsgbox, pyperclip, pyrect\n",
      "  Building wheel for pyautogui (pyproject.toml): started\n",
      "  Building wheel for pyautogui (pyproject.toml): finished with status 'done'\n",
      "  Created wheel for pyautogui: filename=PyAutoGUI-0.9.54-py3-none-any.whl size=37597 sha256=5d70539600966f3403d9bc3e30fded67ad238d8cee91c050dcb526ac6225cfd8\n",
      "  Stored in directory: c:\\users\\dell\\appdata\\local\\pip\\cache\\wheels\\95\\dc\\b1\\fe122b791e0db8bf439a0e6e1d2628e48f10bf430cae13521b\n",
      "  Building wheel for pygetwindow (setup.py): started\n",
      "  Building wheel for pygetwindow (setup.py): finished with status 'done'\n",
      "  Created wheel for pygetwindow: filename=PyGetWindow-0.0.9-py3-none-any.whl size=11079 sha256=11462f2c2e56ddf7792d81a8ef49b0fdb67e674d73a99d6dc73099a870749bc2\n",
      "  Stored in directory: c:\\users\\dell\\appdata\\local\\pip\\cache\\wheels\\07\\75\\0b\\7ca0b598eb4c21d43ba4bcc78a0538dfcf803a5997da33bc19\n",
      "  Building wheel for pyscreeze (pyproject.toml): started\n",
      "  Building wheel for pyscreeze (pyproject.toml): finished with status 'done'\n",
      "  Created wheel for pyscreeze: filename=PyScreeze-0.1.30-py3-none-any.whl size=14400 sha256=ff305400ddf8ffca5643456e25288168c396e4d3f97de29e3be68676ffdd60d7\n",
      "  Stored in directory: c:\\users\\dell\\appdata\\local\\pip\\cache\\wheels\\df\\bc\\15\\d685ca085ca4b11e46e54cc3da4e501a98856c7fea8f604500\n",
      "  Building wheel for pytweening (setup.py): started\n",
      "  Building wheel for pytweening (setup.py): finished with status 'done'\n",
      "  Created wheel for pytweening: filename=pytweening-1.0.7-py3-none-any.whl size=6214 sha256=ca05e3b2600de6d9c154f11b0c859e812ab4a4481a81cd89ce318a5a92aeb6c3\n",
      "  Stored in directory: c:\\users\\dell\\appdata\\local\\pip\\cache\\wheels\\b2\\9b\\02\\059beba389e7e31a635bd9e8d9b7299f4ec11caca1f237f56d\n",
      "  Building wheel for mouseinfo (setup.py): started\n",
      "  Building wheel for mouseinfo (setup.py): finished with status 'done'\n",
      "  Created wheel for mouseinfo: filename=MouseInfo-0.1.3-py3-none-any.whl size=10906 sha256=00907b0d3200c0cdb55a3ebbb985bc0fbb4efc90405aa0352e27e0fbd3e3fa38\n",
      "  Stored in directory: c:\\users\\dell\\appdata\\local\\pip\\cache\\wheels\\20\\0b\\7f\\939ac9ff785b09951c706150537572c00123412f260a6024f3\n",
      "  Building wheel for pymsgbox (pyproject.toml): started\n",
      "  Building wheel for pymsgbox (pyproject.toml): finished with status 'done'\n",
      "  Created wheel for pymsgbox: filename=PyMsgBox-1.0.9-py3-none-any.whl size=7416 sha256=582a6b093e3e31afabe7578b016db0f66999c30d7a53f3d8b68683874677585a\n",
      "  Stored in directory: c:\\users\\dell\\appdata\\local\\pip\\cache\\wheels\\85\\92\\63\\e126ee5f33d8f2ed04f96e43ef5df7270a2f331848752e8662\n",
      "  Building wheel for pyperclip (setup.py): started\n",
      "  Building wheel for pyperclip (setup.py): finished with status 'done'\n",
      "  Created wheel for pyperclip: filename=pyperclip-1.8.2-py3-none-any.whl size=11137 sha256=9bf77658c129b604a1a333a008a683602551c19728ed33153ebf604995aa664e\n",
      "  Stored in directory: c:\\users\\dell\\appdata\\local\\pip\\cache\\wheels\\70\\bd\\ba\\8ae5c080c895c9360fe6e153acda2dee82527374467eae061b\n",
      "  Building wheel for pyrect (setup.py): started\n",
      "  Building wheel for pyrect (setup.py): finished with status 'done'\n",
      "  Created wheel for pyrect: filename=PyRect-0.2.0-py2.py3-none-any.whl size=11205 sha256=0707897a199aec8f2b0fc53e210ca12b1b44c33dd269728565fe5d03dcf7618e\n",
      "  Stored in directory: c:\\users\\dell\\appdata\\local\\pip\\cache\\wheels\\c4\\e9\\fc\\b7a666dd4f9a3168fb44d643079b41d36ddab52f470707e820\n",
      "Successfully built pyautogui pygetwindow pyscreeze pytweening mouseinfo pymsgbox pyperclip pyrect\n",
      "Installing collected packages: pytweening, pyrect, pyperclip, pymsgbox, pyscreeze, pygetwindow, mouseinfo, pyautogui\n",
      "Successfully installed mouseinfo-0.1.3 pyautogui-0.9.54 pygetwindow-0.0.9 pymsgbox-1.0.9 pyperclip-1.8.2 pyrect-0.2.0 pyscreeze-0.1.30 pytweening-1.0.7\n"
     ]
    }
   ],
   "source": [
    "!pip install pyautogui"
   ]
  },
  {
   "cell_type": "code",
   "execution_count": 24,
   "id": "bcd3bff7",
   "metadata": {},
   "outputs": [],
   "source": [
    "import pyautogui\n",
    "import time\n",
    "\n",
    "def open_start_menu():\n",
    "    time.sleep(1)  # Introduce a 1-second delay\n",
    "    pyautogui.press(\"win\")\n",
    "\n",
    "# Example usage:\n",
    "open_start_menu()\n"
   ]
  },
  {
   "cell_type": "markdown",
   "id": "5758d817",
   "metadata": {},
   "source": [
    "# Window functions"
   ]
  },
  {
   "cell_type": "markdown",
   "id": "5625abf4",
   "metadata": {},
   "source": [
    "Search for a Specific File:\n",
    "\n",
    "You can use the os library to search for files in a directory. Here's an example of how to search for a specific file by name:"
   ]
  },
  {
   "cell_type": "code",
   "execution_count": 26,
   "id": "0613cf6f",
   "metadata": {},
   "outputs": [
    {
     "name": "stdout",
     "output_type": "stream",
     "text": [
      "Enter the directory to search: C:\\Users\\DELL\\Desktop\\EEL UI\n",
      "Enter the file name to search: main.py\n",
      "Found main.py at: C:\\Users\\DELL\\Desktop\\EEL UI\\main.py\n"
     ]
    }
   ],
   "source": [
    "import os\n",
    "\n",
    "def search_for_file():\n",
    "    # Ask the user for the directory to search\n",
    "    search_directory = input(\"Enter the directory to search: \")\n",
    "\n",
    "    # Ask the user for the file name to search\n",
    "    file_name_to_search = input(\"Enter the file name to search: \")\n",
    "\n",
    "    for root, dirs, files in os.walk(search_directory):\n",
    "        if file_name_to_search in files:\n",
    "            file_path = os.path.join(root, file_name_to_search)\n",
    "            print(f\"Found {file_name_to_search} at: {file_path}\")\n",
    "            return file_path\n",
    "\n",
    "    print(f\"{file_name_to_search} not found in {search_directory}\")\n",
    "    return None\n",
    "\n",
    "# Example usage:\n",
    "file_path = search_for_file()"
   ]
  },
  {
   "cell_type": "markdown",
   "id": "390b4338",
   "metadata": {},
   "source": [
    "Zoom In and Zoom Out:\n",
    "\n",
    "Zooming in and out typically requires interacting with an application's GUI. You can use the pyautogui library to simulate keyboard shortcuts for zooming. For example, in many applications, \"Ctrl + +\" zooms in, and \"Ctrl + -\" zooms out."
   ]
  },
  {
   "cell_type": "code",
   "execution_count": 28,
   "id": "dcd073a7",
   "metadata": {},
   "outputs": [],
   "source": [
    "import pyautogui\n",
    "\n",
    "def zoom_in():\n",
    "    pyautogui.hotkey(\"ctrl\", \"+\")\n",
    "\n",
    "def zoom_out():\n",
    "    pyautogui.hotkey(\"ctrl\", \"-\")\n",
    "\n",
    "# Example usage:\n",
    "# Zoom In\n",
    "zoom_in()\n",
    "\n",
    "# Zoom Out\n",
    "zoom_out()"
   ]
  },
  {
   "cell_type": "markdown",
   "id": "db398265",
   "metadata": {},
   "source": [
    "# Browser"
   ]
  },
  {
   "cell_type": "code",
   "execution_count": 29,
   "id": "7d7e3fb4",
   "metadata": {},
   "outputs": [
    {
     "name": "stdout",
     "output_type": "stream",
     "text": [
      "Defaulting to user installation because normal site-packages is not writeable\n",
      "Collecting selenium\n",
      "  Obtaining dependency information for selenium from https://files.pythonhosted.org/packages/dc/72/96b5afa16908f9abc7c24b70adfd3a46c9740eb728ddfeab28379e38eaf9/selenium-4.16.0-py3-none-any.whl.metadata\n",
      "  Downloading selenium-4.16.0-py3-none-any.whl.metadata (6.9 kB)\n",
      "Requirement already satisfied: urllib3[socks]<3,>=1.26 in d:\\anaconda\\lib\\site-packages (from selenium) (1.26.16)\n",
      "Collecting trio~=0.17 (from selenium)\n",
      "  Obtaining dependency information for trio~=0.17 from https://files.pythonhosted.org/packages/39/46/620fbe56f41fa3ccdda2136d947fb9bacce3d1eb163f057f0262a0ddf5e0/trio-0.23.1-py3-none-any.whl.metadata\n",
      "  Downloading trio-0.23.1-py3-none-any.whl.metadata (4.9 kB)\n",
      "Collecting trio-websocket~=0.9 (from selenium)\n",
      "  Obtaining dependency information for trio-websocket~=0.9 from https://files.pythonhosted.org/packages/48/be/a9ae5f50cad5b6f85bd2574c2c923730098530096e170c1ce7452394d7aa/trio_websocket-0.11.1-py3-none-any.whl.metadata\n",
      "  Downloading trio_websocket-0.11.1-py3-none-any.whl.metadata (4.7 kB)\n",
      "Requirement already satisfied: certifi>=2021.10.8 in d:\\anaconda\\lib\\site-packages (from selenium) (2023.7.22)\n",
      "Requirement already satisfied: attrs>=20.1.0 in d:\\anaconda\\lib\\site-packages (from trio~=0.17->selenium) (22.1.0)\n",
      "Requirement already satisfied: sortedcontainers in d:\\anaconda\\lib\\site-packages (from trio~=0.17->selenium) (2.4.0)\n",
      "Requirement already satisfied: idna in d:\\anaconda\\lib\\site-packages (from trio~=0.17->selenium) (3.4)\n",
      "Collecting outcome (from trio~=0.17->selenium)\n",
      "  Obtaining dependency information for outcome from https://files.pythonhosted.org/packages/55/8b/5ab7257531a5d830fc8000c476e63c935488d74609b50f9384a643ec0a62/outcome-1.3.0.post0-py2.py3-none-any.whl.metadata\n",
      "  Downloading outcome-1.3.0.post0-py2.py3-none-any.whl.metadata (2.6 kB)\n",
      "Collecting sniffio>=1.3.0 (from trio~=0.17->selenium)\n",
      "  Using cached sniffio-1.3.0-py3-none-any.whl (10 kB)\n",
      "Requirement already satisfied: cffi>=1.14 in d:\\anaconda\\lib\\site-packages (from trio~=0.17->selenium) (1.15.1)\n",
      "Collecting wsproto>=0.14 (from trio-websocket~=0.9->selenium)\n",
      "  Using cached wsproto-1.2.0-py3-none-any.whl (24 kB)\n",
      "Requirement already satisfied: PySocks!=1.5.7,<2.0,>=1.5.6 in d:\\anaconda\\lib\\site-packages (from urllib3[socks]<3,>=1.26->selenium) (1.7.1)\n",
      "Requirement already satisfied: pycparser in d:\\anaconda\\lib\\site-packages (from cffi>=1.14->trio~=0.17->selenium) (2.21)\n",
      "Collecting h11<1,>=0.9.0 (from wsproto>=0.14->trio-websocket~=0.9->selenium)\n",
      "  Using cached h11-0.14.0-py3-none-any.whl (58 kB)\n",
      "Downloading selenium-4.16.0-py3-none-any.whl (10.0 MB)\n",
      "   ---------------------------------------- 0.0/10.0 MB ? eta -:--:--\n",
      "   ---------------------------------------- 0.0/10.0 MB 991.0 kB/s eta 0:00:11\n",
      "   ---------------------------------------- 0.1/10.0 MB 1.4 MB/s eta 0:00:07\n",
      "   - -------------------------------------- 0.3/10.0 MB 1.7 MB/s eta 0:00:06\n",
      "   -- ------------------------------------- 0.5/10.0 MB 2.7 MB/s eta 0:00:04\n",
      "   --- ------------------------------------ 0.8/10.0 MB 3.2 MB/s eta 0:00:03\n",
      "   ---- ----------------------------------- 1.0/10.0 MB 3.6 MB/s eta 0:00:03\n",
      "   ----- ---------------------------------- 1.3/10.0 MB 3.8 MB/s eta 0:00:03\n",
      "   ------ --------------------------------- 1.5/10.0 MB 4.0 MB/s eta 0:00:03\n",
      "   ------- -------------------------------- 1.8/10.0 MB 4.2 MB/s eta 0:00:02\n",
      "   -------- ------------------------------- 2.0/10.0 MB 4.5 MB/s eta 0:00:02\n",
      "   --------- ------------------------------ 2.3/10.0 MB 4.5 MB/s eta 0:00:02\n",
      "   --------- ------------------------------ 2.4/10.0 MB 4.6 MB/s eta 0:00:02\n",
      "   --------- ------------------------------ 2.4/10.0 MB 4.6 MB/s eta 0:00:02\n",
      "   --------- ------------------------------ 2.4/10.0 MB 4.6 MB/s eta 0:00:02\n",
      "   ----------- ---------------------------- 2.8/10.0 MB 4.0 MB/s eta 0:00:02\n",
      "   ----------- ---------------------------- 2.9/10.0 MB 3.9 MB/s eta 0:00:02\n",
      "   -------------- ------------------------- 3.7/10.0 MB 4.8 MB/s eta 0:00:02\n",
      "   -------------- ------------------------- 3.7/10.0 MB 4.8 MB/s eta 0:00:02\n",
      "   -------------- ------------------------- 3.7/10.0 MB 4.8 MB/s eta 0:00:02\n",
      "   --------------- ------------------------ 4.0/10.0 MB 4.4 MB/s eta 0:00:02\n",
      "   ---------------- ----------------------- 4.1/10.0 MB 4.3 MB/s eta 0:00:02\n",
      "   ------------------ --------------------- 4.5/10.0 MB 4.5 MB/s eta 0:00:02\n",
      "   ------------------ --------------------- 4.7/10.0 MB 4.5 MB/s eta 0:00:02\n",
      "   ------------------ --------------------- 4.7/10.0 MB 4.5 MB/s eta 0:00:02\n",
      "   ------------------- -------------------- 4.9/10.0 MB 4.3 MB/s eta 0:00:02\n",
      "   -------------------- ------------------- 5.1/10.0 MB 4.4 MB/s eta 0:00:02\n",
      "   -------------------- ------------------- 5.1/10.0 MB 4.2 MB/s eta 0:00:02\n",
      "   --------------------- ------------------ 5.4/10.0 MB 4.3 MB/s eta 0:00:02\n",
      "   ---------------------- ----------------- 5.5/10.0 MB 4.2 MB/s eta 0:00:02\n",
      "   ---------------------- ----------------- 5.6/10.0 MB 4.1 MB/s eta 0:00:02\n",
      "   ---------------------- ----------------- 5.7/10.0 MB 4.1 MB/s eta 0:00:02\n",
      "   ----------------------- ---------------- 5.7/10.0 MB 4.1 MB/s eta 0:00:02\n",
      "   ----------------------- ---------------- 5.9/10.0 MB 4.0 MB/s eta 0:00:02\n",
      "   ----------------------- ---------------- 6.0/10.0 MB 3.9 MB/s eta 0:00:02\n",
      "   ------------------------ --------------- 6.0/10.0 MB 3.9 MB/s eta 0:00:02\n",
      "   ------------------------ --------------- 6.1/10.0 MB 3.8 MB/s eta 0:00:02\n",
      "   ------------------------ --------------- 6.2/10.0 MB 3.7 MB/s eta 0:00:02\n",
      "   ------------------------- -------------- 6.3/10.0 MB 3.7 MB/s eta 0:00:01\n",
      "   ------------------------- -------------- 6.4/10.0 MB 3.7 MB/s eta 0:00:01\n",
      "   ------------------------- -------------- 6.5/10.0 MB 3.6 MB/s eta 0:00:01\n",
      "   -------------------------- ------------- 6.5/10.0 MB 3.6 MB/s eta 0:00:01\n",
      "   -------------------------- ------------- 6.6/10.0 MB 3.5 MB/s eta 0:00:01\n",
      "   -------------------------- ------------- 6.6/10.0 MB 3.5 MB/s eta 0:00:01\n",
      "   -------------------------- ------------- 6.7/10.0 MB 3.4 MB/s eta 0:00:01\n",
      "   --------------------------- ------------ 6.8/10.0 MB 3.4 MB/s eta 0:00:01\n",
      "   --------------------------- ------------ 6.8/10.0 MB 3.3 MB/s eta 0:00:01\n",
      "   --------------------------- ------------ 6.8/10.0 MB 3.3 MB/s eta 0:00:01\n",
      "   --------------------------- ------------ 6.9/10.0 MB 3.2 MB/s eta 0:00:01\n",
      "   --------------------------- ------------ 6.9/10.0 MB 3.2 MB/s eta 0:00:01\n",
      "   ---------------------------- ----------- 7.0/10.0 MB 3.1 MB/s eta 0:00:01\n",
      "   ---------------------------- ----------- 7.0/10.0 MB 3.1 MB/s eta 0:00:01\n",
      "   ---------------------------- ----------- 7.1/10.0 MB 3.0 MB/s eta 0:00:01\n",
      "   ---------------------------- ----------- 7.1/10.0 MB 3.0 MB/s eta 0:00:01\n",
      "   ---------------------------- ----------- 7.2/10.0 MB 3.0 MB/s eta 0:00:01\n",
      "   ----------------------------- ---------- 7.2/10.0 MB 2.9 MB/s eta 0:00:01\n",
      "   ----------------------------- ---------- 7.3/10.0 MB 2.9 MB/s eta 0:00:01\n",
      "   ----------------------------- ---------- 7.4/10.0 MB 2.9 MB/s eta 0:00:01\n",
      "   ----------------------------- ---------- 7.4/10.0 MB 2.9 MB/s eta 0:00:01\n",
      "   ----------------------------- ---------- 7.5/10.0 MB 2.8 MB/s eta 0:00:01\n",
      "   ------------------------------ --------- 7.5/10.0 MB 2.8 MB/s eta 0:00:01\n",
      "   ------------------------------ --------- 7.6/10.0 MB 2.8 MB/s eta 0:00:01\n",
      "   ------------------------------ --------- 7.6/10.0 MB 2.7 MB/s eta 0:00:01\n",
      "   ------------------------------ --------- 7.7/10.0 MB 2.7 MB/s eta 0:00:01\n",
      "   ------------------------------- -------- 7.8/10.0 MB 2.7 MB/s eta 0:00:01\n",
      "   ------------------------------- -------- 7.8/10.0 MB 2.7 MB/s eta 0:00:01\n",
      "   ------------------------------- -------- 7.9/10.0 MB 2.7 MB/s eta 0:00:01\n",
      "   ------------------------------- -------- 8.0/10.0 MB 2.7 MB/s eta 0:00:01\n",
      "   -------------------------------- ------- 8.0/10.0 MB 2.6 MB/s eta 0:00:01\n",
      "   -------------------------------- ------- 8.1/10.0 MB 2.6 MB/s eta 0:00:01\n",
      "   -------------------------------- ------- 8.2/10.0 MB 2.6 MB/s eta 0:00:01\n",
      "   --------------------------------- ------ 8.2/10.0 MB 2.6 MB/s eta 0:00:01\n",
      "   --------------------------------- ------ 8.3/10.0 MB 2.6 MB/s eta 0:00:01\n",
      "   --------------------------------- ------ 8.4/10.0 MB 2.6 MB/s eta 0:00:01\n",
      "   --------------------------------- ------ 8.4/10.0 MB 2.6 MB/s eta 0:00:01\n",
      "   ---------------------------------- ----- 8.5/10.0 MB 2.5 MB/s eta 0:00:01\n",
      "   ---------------------------------- ----- 8.6/10.0 MB 2.5 MB/s eta 0:00:01\n",
      "   ---------------------------------- ----- 8.7/10.0 MB 2.5 MB/s eta 0:00:01\n",
      "   ----------------------------------- ---- 8.7/10.0 MB 2.5 MB/s eta 0:00:01\n",
      "   ----------------------------------- ---- 8.8/10.0 MB 2.5 MB/s eta 0:00:01\n",
      "   ----------------------------------- ---- 8.9/10.0 MB 2.5 MB/s eta 0:00:01\n",
      "   ------------------------------------ --- 9.0/10.0 MB 2.5 MB/s eta 0:00:01\n",
      "   ------------------------------------ --- 9.1/10.0 MB 2.5 MB/s eta 0:00:01\n",
      "   ------------------------------------ --- 9.1/10.0 MB 2.5 MB/s eta 0:00:01\n",
      "   ------------------------------------- -- 9.2/10.0 MB 2.5 MB/s eta 0:00:01\n",
      "   ------------------------------------- -- 9.3/10.0 MB 2.5 MB/s eta 0:00:01\n",
      "   ------------------------------------- -- 9.4/10.0 MB 2.5 MB/s eta 0:00:01\n",
      "   ------------------------------------- -- 9.5/10.0 MB 2.4 MB/s eta 0:00:01\n",
      "   -------------------------------------- - 9.6/10.0 MB 2.4 MB/s eta 0:00:01\n",
      "   -------------------------------------- - 9.6/10.0 MB 2.4 MB/s eta 0:00:01\n",
      "   ---------------------------------------  9.7/10.0 MB 2.4 MB/s eta 0:00:01\n",
      "   ---------------------------------------  9.8/10.0 MB 2.4 MB/s eta 0:00:01\n",
      "   ---------------------------------------  9.9/10.0 MB 2.4 MB/s eta 0:00:01\n",
      "   ---------------------------------------  10.0/10.0 MB 2.4 MB/s eta 0:00:01\n",
      "   ---------------------------------------- 10.0/10.0 MB 2.4 MB/s eta 0:00:00\n",
      "Downloading trio-0.23.1-py3-none-any.whl (448 kB)\n",
      "   ---------------------------------------- 0.0/448.3 kB ? eta -:--:--\n",
      "   -------- ------------------------------- 92.2/448.3 kB 2.6 MB/s eta 0:00:01\n",
      "   ------------------ --------------------- 204.8/448.3 kB 2.1 MB/s eta 0:00:01\n",
      "   ------------------------- -------------- 286.7/448.3 kB 2.2 MB/s eta 0:00:01\n",
      "   -------------------------------- ------- 368.6/448.3 kB 2.3 MB/s eta 0:00:01\n",
      "   ---------------------------------------- 448.3/448.3 kB 2.2 MB/s eta 0:00:00\n",
      "Downloading trio_websocket-0.11.1-py3-none-any.whl (17 kB)\n",
      "Downloading outcome-1.3.0.post0-py2.py3-none-any.whl (10 kB)\n",
      "Installing collected packages: sniffio, outcome, h11, wsproto, trio, trio-websocket, selenium\n",
      "Successfully installed h11-0.14.0 outcome-1.3.0.post0 selenium-4.16.0 sniffio-1.3.0 trio-0.23.1 trio-websocket-0.11.1 wsproto-1.2.0\n"
     ]
    }
   ],
   "source": [
    "!pip install selenium"
   ]
  },
  {
   "cell_type": "markdown",
   "id": "dfc9564b",
   "metadata": {},
   "source": [
    "Download and Set Up Chrome WebDriver:\n",
    "\n",
    "Download the Chrome WebDriver executable compatible with your Chrome browser version from the official ChromeDriver website: https://sites.google.com/chromium.org/driver/\n",
    "\n",
    "Then, place the WebDriver executable in a directory that's included in your system's PATH environment variable.\n",
    "\n",
    "Now, you can use the following code to open Google.com in a Chrome browser window:"
   ]
  },
  {
   "cell_type": "code",
   "execution_count": 30,
   "id": "63f9a761",
   "metadata": {},
   "outputs": [],
   "source": [
    "from selenium import webdriver\n",
    "\n",
    "def open_google():\n",
    "    # Initialize the Chrome web driver\n",
    "    driver = webdriver.Chrome()\n",
    "\n",
    "    # Open Google.com\n",
    "    driver.get(\"https://www.google.com\")\n",
    "\n",
    "# Example usage:\n",
    "open_google()"
   ]
  },
  {
   "cell_type": "markdown",
   "id": "00094fab",
   "metadata": {},
   "source": [
    "# Bluetooth\n",
    "\n",
    "Download DevCon:\n",
    "Download the devcon.exe tool from the official Microsoft website. Ensure that you download the correct version based on your system architecture (32-bit or 64-bit).\n",
    "\n",
    "Download DevCon for 32-bit\n",
    "Download DevCon for 64-bit\n",
    "Place DevCon in a Directory in PATH:\n",
    "Once downloaded, place devcon.exe or devcon64.exe in a directory that is included in your system's PATH environment variable. This could be a directory like C:\\Windows\\System32 or any other directory listed in your PATH."
   ]
  },
  {
   "cell_type": "code",
   "execution_count": 37,
   "id": "14fc61db",
   "metadata": {},
   "outputs": [],
   "source": [
    "import subprocess\n",
    "import platform\n",
    "import time\n",
    "\n",
    "def turn_on_bluetooth():\n",
    "    if platform.system() == \"Windows\":\n",
    "        subprocess.run([\"devcon.exe\", \"enable\", \"USB\\VID_1234&PID_5678\"])  # Replace with the appropriate device ID\n",
    "    else:\n",
    "        print(\"Bluetooth control not implemented for this platform.\")\n",
    "\n",
    "def turn_off_bluetooth():\n",
    "    if platform.system() == \"Windows\":\n",
    "        subprocess.run([\"devcon.exe\", \"disable\", \"USB\\VID_1234&PID_5678\"])  # Replace with the appropriate device ID\n",
    "    else:\n",
    "        print(\"Bluetooth control not implemented for this platform.\")\n",
    "\n",
    "# Example usage:\n",
    "turn_on_bluetooth()\n",
    "time.sleep(5)  # Wait for 5 seconds (adjust as needed)\n",
    "turn_off_bluetooth()"
   ]
  }
 ],
 "metadata": {
  "kernelspec": {
   "display_name": "Python 3 (ipykernel)",
   "language": "python",
   "name": "python3"
  },
  "language_info": {
   "codemirror_mode": {
    "name": "ipython",
    "version": 3
   },
   "file_extension": ".py",
   "mimetype": "text/x-python",
   "name": "python",
   "nbconvert_exporter": "python",
   "pygments_lexer": "ipython3",
   "version": "3.11.4"
  },
  "varInspector": {
   "cols": {
    "lenName": 16,
    "lenType": 16,
    "lenVar": 40
   },
   "kernels_config": {
    "python": {
     "delete_cmd_postfix": "",
     "delete_cmd_prefix": "del ",
     "library": "var_list.py",
     "varRefreshCmd": "print(var_dic_list())"
    },
    "r": {
     "delete_cmd_postfix": ") ",
     "delete_cmd_prefix": "rm(",
     "library": "var_list.r",
     "varRefreshCmd": "cat(var_dic_list()) "
    }
   },
   "types_to_exclude": [
    "module",
    "function",
    "builtin_function_or_method",
    "instance",
    "_Feature"
   ],
   "window_display": false
  }
 },
 "nbformat": 4,
 "nbformat_minor": 5
}
